{
 "cells": [
  {
   "cell_type": "code",
   "execution_count": 1,
   "metadata": {
    "collapsed": false
   },
   "outputs": [],
   "source": [
    "import utils\n",
    "import numpy as np\n",
    "\n",
    "%matplotlib inline\n",
    "\n",
    "import matplotlib.pyplot as plt\n",
    "import vlc "
   ]
  },
  {
   "cell_type": "code",
   "execution_count": 2,
   "metadata": {
    "collapsed": false
   },
   "outputs": [
    {
     "name": "stdout",
     "output_type": "stream",
     "text": [
      "Found 2128 files\n"
     ]
    }
   ],
   "source": [
    "SELECCION_DIR = \"data/sound/pack/drumkits.mp3/\"\n",
    "FILE_TYPE=\".mp3\"\n",
    "\n",
    "audioFiles = utils.findMusic(SELECCION_DIR, FILE_TYPE)\n",
    "print( \"Found\", len(audioFiles), \"files\" )"
   ]
  },
  {
   "cell_type": "code",
   "execution_count": 3,
   "metadata": {
    "collapsed": false
   },
   "outputs": [],
   "source": [
    "positions = np.genfromtxt(\"tsvs/LSTM_autoencoder-mfcc-drums.tsv\", skip_header=1, delimiter=\"\\t\")\n",
    "positions = positions[:,0:2]"
   ]
  },
  {
   "cell_type": "markdown",
   "metadata": {},
   "source": [
    "### Scatterplot"
   ]
  },
  {
   "cell_type": "code",
   "execution_count": 4,
   "metadata": {
    "collapsed": false
   },
   "outputs": [
    {
     "data": {
      "application/javascript": [
       "/* Put everything inside the global mpl namespace */\n",
       "window.mpl = {};\n",
       "\n",
       "\n",
       "mpl.get_websocket_type = function() {\n",
       "    if (typeof(WebSocket) !== 'undefined') {\n",
       "        return WebSocket;\n",
       "    } else if (typeof(MozWebSocket) !== 'undefined') {\n",
       "        return MozWebSocket;\n",
       "    } else {\n",
       "        alert('Your browser does not have WebSocket support.' +\n",
       "              'Please try Chrome, Safari or Firefox ≥ 6. ' +\n",
       "              'Firefox 4 and 5 are also supported but you ' +\n",
       "              'have to enable WebSockets in about:config.');\n",
       "    };\n",
       "}\n",
       "\n",
       "mpl.figure = function(figure_id, websocket, ondownload, parent_element) {\n",
       "    this.id = figure_id;\n",
       "\n",
       "    this.ws = websocket;\n",
       "\n",
       "    this.supports_binary = (this.ws.binaryType != undefined);\n",
       "\n",
       "    if (!this.supports_binary) {\n",
       "        var warnings = document.getElementById(\"mpl-warnings\");\n",
       "        if (warnings) {\n",
       "            warnings.style.display = 'block';\n",
       "            warnings.textContent = (\n",
       "                \"This browser does not support binary websocket messages. \" +\n",
       "                    \"Performance may be slow.\");\n",
       "        }\n",
       "    }\n",
       "\n",
       "    this.imageObj = new Image();\n",
       "\n",
       "    this.context = undefined;\n",
       "    this.message = undefined;\n",
       "    this.canvas = undefined;\n",
       "    this.rubberband_canvas = undefined;\n",
       "    this.rubberband_context = undefined;\n",
       "    this.format_dropdown = undefined;\n",
       "\n",
       "    this.image_mode = 'full';\n",
       "\n",
       "    this.root = $('<div/>');\n",
       "    this._root_extra_style(this.root)\n",
       "    this.root.attr('style', 'display: inline-block');\n",
       "\n",
       "    $(parent_element).append(this.root);\n",
       "\n",
       "    this._init_header(this);\n",
       "    this._init_canvas(this);\n",
       "    this._init_toolbar(this);\n",
       "\n",
       "    var fig = this;\n",
       "\n",
       "    this.waiting = false;\n",
       "\n",
       "    this.ws.onopen =  function () {\n",
       "            fig.send_message(\"supports_binary\", {value: fig.supports_binary});\n",
       "            fig.send_message(\"send_image_mode\", {});\n",
       "            if (mpl.ratio != 1) {\n",
       "                fig.send_message(\"set_dpi_ratio\", {'dpi_ratio': mpl.ratio});\n",
       "            }\n",
       "            fig.send_message(\"refresh\", {});\n",
       "        }\n",
       "\n",
       "    this.imageObj.onload = function() {\n",
       "            if (fig.image_mode == 'full') {\n",
       "                // Full images could contain transparency (where diff images\n",
       "                // almost always do), so we need to clear the canvas so that\n",
       "                // there is no ghosting.\n",
       "                fig.context.clearRect(0, 0, fig.canvas.width, fig.canvas.height);\n",
       "            }\n",
       "            fig.context.drawImage(fig.imageObj, 0, 0);\n",
       "        };\n",
       "\n",
       "    this.imageObj.onunload = function() {\n",
       "        this.ws.close();\n",
       "    }\n",
       "\n",
       "    this.ws.onmessage = this._make_on_message_function(this);\n",
       "\n",
       "    this.ondownload = ondownload;\n",
       "}\n",
       "\n",
       "mpl.figure.prototype._init_header = function() {\n",
       "    var titlebar = $(\n",
       "        '<div class=\"ui-dialog-titlebar ui-widget-header ui-corner-all ' +\n",
       "        'ui-helper-clearfix\"/>');\n",
       "    var titletext = $(\n",
       "        '<div class=\"ui-dialog-title\" style=\"width: 100%; ' +\n",
       "        'text-align: center; padding: 3px;\"/>');\n",
       "    titlebar.append(titletext)\n",
       "    this.root.append(titlebar);\n",
       "    this.header = titletext[0];\n",
       "}\n",
       "\n",
       "\n",
       "\n",
       "mpl.figure.prototype._canvas_extra_style = function(canvas_div) {\n",
       "\n",
       "}\n",
       "\n",
       "\n",
       "mpl.figure.prototype._root_extra_style = function(canvas_div) {\n",
       "\n",
       "}\n",
       "\n",
       "mpl.figure.prototype._init_canvas = function() {\n",
       "    var fig = this;\n",
       "\n",
       "    var canvas_div = $('<div/>');\n",
       "\n",
       "    canvas_div.attr('style', 'position: relative; clear: both; outline: 0');\n",
       "\n",
       "    function canvas_keyboard_event(event) {\n",
       "        return fig.key_event(event, event['data']);\n",
       "    }\n",
       "\n",
       "    canvas_div.keydown('key_press', canvas_keyboard_event);\n",
       "    canvas_div.keyup('key_release', canvas_keyboard_event);\n",
       "    this.canvas_div = canvas_div\n",
       "    this._canvas_extra_style(canvas_div)\n",
       "    this.root.append(canvas_div);\n",
       "\n",
       "    var canvas = $('<canvas/>');\n",
       "    canvas.addClass('mpl-canvas');\n",
       "    canvas.attr('style', \"left: 0; top: 0; z-index: 0; outline: 0\")\n",
       "\n",
       "    this.canvas = canvas[0];\n",
       "    this.context = canvas[0].getContext(\"2d\");\n",
       "\n",
       "    var backingStore = this.context.backingStorePixelRatio ||\n",
       "\tthis.context.webkitBackingStorePixelRatio ||\n",
       "\tthis.context.mozBackingStorePixelRatio ||\n",
       "\tthis.context.msBackingStorePixelRatio ||\n",
       "\tthis.context.oBackingStorePixelRatio ||\n",
       "\tthis.context.backingStorePixelRatio || 1;\n",
       "\n",
       "    mpl.ratio = (window.devicePixelRatio || 1) / backingStore;\n",
       "\n",
       "    var rubberband = $('<canvas/>');\n",
       "    rubberband.attr('style', \"position: absolute; left: 0; top: 0; z-index: 1;\")\n",
       "\n",
       "    var pass_mouse_events = true;\n",
       "\n",
       "    canvas_div.resizable({\n",
       "        start: function(event, ui) {\n",
       "            pass_mouse_events = false;\n",
       "        },\n",
       "        resize: function(event, ui) {\n",
       "            fig.request_resize(ui.size.width, ui.size.height);\n",
       "        },\n",
       "        stop: function(event, ui) {\n",
       "            pass_mouse_events = true;\n",
       "            fig.request_resize(ui.size.width, ui.size.height);\n",
       "        },\n",
       "    });\n",
       "\n",
       "    function mouse_event_fn(event) {\n",
       "        if (pass_mouse_events)\n",
       "            return fig.mouse_event(event, event['data']);\n",
       "    }\n",
       "\n",
       "    rubberband.mousedown('button_press', mouse_event_fn);\n",
       "    rubberband.mouseup('button_release', mouse_event_fn);\n",
       "    // Throttle sequential mouse events to 1 every 20ms.\n",
       "    rubberband.mousemove('motion_notify', mouse_event_fn);\n",
       "\n",
       "    rubberband.mouseenter('figure_enter', mouse_event_fn);\n",
       "    rubberband.mouseleave('figure_leave', mouse_event_fn);\n",
       "\n",
       "    canvas_div.on(\"wheel\", function (event) {\n",
       "        event = event.originalEvent;\n",
       "        event['data'] = 'scroll'\n",
       "        if (event.deltaY < 0) {\n",
       "            event.step = 1;\n",
       "        } else {\n",
       "            event.step = -1;\n",
       "        }\n",
       "        mouse_event_fn(event);\n",
       "    });\n",
       "\n",
       "    canvas_div.append(canvas);\n",
       "    canvas_div.append(rubberband);\n",
       "\n",
       "    this.rubberband = rubberband;\n",
       "    this.rubberband_canvas = rubberband[0];\n",
       "    this.rubberband_context = rubberband[0].getContext(\"2d\");\n",
       "    this.rubberband_context.strokeStyle = \"#000000\";\n",
       "\n",
       "    this._resize_canvas = function(width, height) {\n",
       "        // Keep the size of the canvas, canvas container, and rubber band\n",
       "        // canvas in synch.\n",
       "        canvas_div.css('width', width)\n",
       "        canvas_div.css('height', height)\n",
       "\n",
       "        canvas.attr('width', width * mpl.ratio);\n",
       "        canvas.attr('height', height * mpl.ratio);\n",
       "        canvas.attr('style', 'width: ' + width + 'px; height: ' + height + 'px;');\n",
       "\n",
       "        rubberband.attr('width', width);\n",
       "        rubberband.attr('height', height);\n",
       "    }\n",
       "\n",
       "    // Set the figure to an initial 600x600px, this will subsequently be updated\n",
       "    // upon first draw.\n",
       "    this._resize_canvas(600, 600);\n",
       "\n",
       "    // Disable right mouse context menu.\n",
       "    $(this.rubberband_canvas).bind(\"contextmenu\",function(e){\n",
       "        return false;\n",
       "    });\n",
       "\n",
       "    function set_focus () {\n",
       "        canvas.focus();\n",
       "        canvas_div.focus();\n",
       "    }\n",
       "\n",
       "    window.setTimeout(set_focus, 100);\n",
       "}\n",
       "\n",
       "mpl.figure.prototype._init_toolbar = function() {\n",
       "    var fig = this;\n",
       "\n",
       "    var nav_element = $('<div/>')\n",
       "    nav_element.attr('style', 'width: 100%');\n",
       "    this.root.append(nav_element);\n",
       "\n",
       "    // Define a callback function for later on.\n",
       "    function toolbar_event(event) {\n",
       "        return fig.toolbar_button_onclick(event['data']);\n",
       "    }\n",
       "    function toolbar_mouse_event(event) {\n",
       "        return fig.toolbar_button_onmouseover(event['data']);\n",
       "    }\n",
       "\n",
       "    for(var toolbar_ind in mpl.toolbar_items) {\n",
       "        var name = mpl.toolbar_items[toolbar_ind][0];\n",
       "        var tooltip = mpl.toolbar_items[toolbar_ind][1];\n",
       "        var image = mpl.toolbar_items[toolbar_ind][2];\n",
       "        var method_name = mpl.toolbar_items[toolbar_ind][3];\n",
       "\n",
       "        if (!name) {\n",
       "            // put a spacer in here.\n",
       "            continue;\n",
       "        }\n",
       "        var button = $('<button/>');\n",
       "        button.addClass('ui-button ui-widget ui-state-default ui-corner-all ' +\n",
       "                        'ui-button-icon-only');\n",
       "        button.attr('role', 'button');\n",
       "        button.attr('aria-disabled', 'false');\n",
       "        button.click(method_name, toolbar_event);\n",
       "        button.mouseover(tooltip, toolbar_mouse_event);\n",
       "\n",
       "        var icon_img = $('<span/>');\n",
       "        icon_img.addClass('ui-button-icon-primary ui-icon');\n",
       "        icon_img.addClass(image);\n",
       "        icon_img.addClass('ui-corner-all');\n",
       "\n",
       "        var tooltip_span = $('<span/>');\n",
       "        tooltip_span.addClass('ui-button-text');\n",
       "        tooltip_span.html(tooltip);\n",
       "\n",
       "        button.append(icon_img);\n",
       "        button.append(tooltip_span);\n",
       "\n",
       "        nav_element.append(button);\n",
       "    }\n",
       "\n",
       "    var fmt_picker_span = $('<span/>');\n",
       "\n",
       "    var fmt_picker = $('<select/>');\n",
       "    fmt_picker.addClass('mpl-toolbar-option ui-widget ui-widget-content');\n",
       "    fmt_picker_span.append(fmt_picker);\n",
       "    nav_element.append(fmt_picker_span);\n",
       "    this.format_dropdown = fmt_picker[0];\n",
       "\n",
       "    for (var ind in mpl.extensions) {\n",
       "        var fmt = mpl.extensions[ind];\n",
       "        var option = $(\n",
       "            '<option/>', {selected: fmt === mpl.default_extension}).html(fmt);\n",
       "        fmt_picker.append(option)\n",
       "    }\n",
       "\n",
       "    // Add hover states to the ui-buttons\n",
       "    $( \".ui-button\" ).hover(\n",
       "        function() { $(this).addClass(\"ui-state-hover\");},\n",
       "        function() { $(this).removeClass(\"ui-state-hover\");}\n",
       "    );\n",
       "\n",
       "    var status_bar = $('<span class=\"mpl-message\"/>');\n",
       "    nav_element.append(status_bar);\n",
       "    this.message = status_bar[0];\n",
       "}\n",
       "\n",
       "mpl.figure.prototype.request_resize = function(x_pixels, y_pixels) {\n",
       "    // Request matplotlib to resize the figure. Matplotlib will then trigger a resize in the client,\n",
       "    // which will in turn request a refresh of the image.\n",
       "    this.send_message('resize', {'width': x_pixels, 'height': y_pixels});\n",
       "}\n",
       "\n",
       "mpl.figure.prototype.send_message = function(type, properties) {\n",
       "    properties['type'] = type;\n",
       "    properties['figure_id'] = this.id;\n",
       "    this.ws.send(JSON.stringify(properties));\n",
       "}\n",
       "\n",
       "mpl.figure.prototype.send_draw_message = function() {\n",
       "    if (!this.waiting) {\n",
       "        this.waiting = true;\n",
       "        this.ws.send(JSON.stringify({type: \"draw\", figure_id: this.id}));\n",
       "    }\n",
       "}\n",
       "\n",
       "\n",
       "mpl.figure.prototype.handle_save = function(fig, msg) {\n",
       "    var format_dropdown = fig.format_dropdown;\n",
       "    var format = format_dropdown.options[format_dropdown.selectedIndex].value;\n",
       "    fig.ondownload(fig, format);\n",
       "}\n",
       "\n",
       "\n",
       "mpl.figure.prototype.handle_resize = function(fig, msg) {\n",
       "    var size = msg['size'];\n",
       "    if (size[0] != fig.canvas.width || size[1] != fig.canvas.height) {\n",
       "        fig._resize_canvas(size[0], size[1]);\n",
       "        fig.send_message(\"refresh\", {});\n",
       "    };\n",
       "}\n",
       "\n",
       "mpl.figure.prototype.handle_rubberband = function(fig, msg) {\n",
       "    var x0 = msg['x0'] / mpl.ratio;\n",
       "    var y0 = (fig.canvas.height - msg['y0']) / mpl.ratio;\n",
       "    var x1 = msg['x1'] / mpl.ratio;\n",
       "    var y1 = (fig.canvas.height - msg['y1']) / mpl.ratio;\n",
       "    x0 = Math.floor(x0) + 0.5;\n",
       "    y0 = Math.floor(y0) + 0.5;\n",
       "    x1 = Math.floor(x1) + 0.5;\n",
       "    y1 = Math.floor(y1) + 0.5;\n",
       "    var min_x = Math.min(x0, x1);\n",
       "    var min_y = Math.min(y0, y1);\n",
       "    var width = Math.abs(x1 - x0);\n",
       "    var height = Math.abs(y1 - y0);\n",
       "\n",
       "    fig.rubberband_context.clearRect(\n",
       "        0, 0, fig.canvas.width, fig.canvas.height);\n",
       "\n",
       "    fig.rubberband_context.strokeRect(min_x, min_y, width, height);\n",
       "}\n",
       "\n",
       "mpl.figure.prototype.handle_figure_label = function(fig, msg) {\n",
       "    // Updates the figure title.\n",
       "    fig.header.textContent = msg['label'];\n",
       "}\n",
       "\n",
       "mpl.figure.prototype.handle_cursor = function(fig, msg) {\n",
       "    var cursor = msg['cursor'];\n",
       "    switch(cursor)\n",
       "    {\n",
       "    case 0:\n",
       "        cursor = 'pointer';\n",
       "        break;\n",
       "    case 1:\n",
       "        cursor = 'default';\n",
       "        break;\n",
       "    case 2:\n",
       "        cursor = 'crosshair';\n",
       "        break;\n",
       "    case 3:\n",
       "        cursor = 'move';\n",
       "        break;\n",
       "    }\n",
       "    fig.rubberband_canvas.style.cursor = cursor;\n",
       "}\n",
       "\n",
       "mpl.figure.prototype.handle_message = function(fig, msg) {\n",
       "    fig.message.textContent = msg['message'];\n",
       "}\n",
       "\n",
       "mpl.figure.prototype.handle_draw = function(fig, msg) {\n",
       "    // Request the server to send over a new figure.\n",
       "    fig.send_draw_message();\n",
       "}\n",
       "\n",
       "mpl.figure.prototype.handle_image_mode = function(fig, msg) {\n",
       "    fig.image_mode = msg['mode'];\n",
       "}\n",
       "\n",
       "mpl.figure.prototype.updated_canvas_event = function() {\n",
       "    // Called whenever the canvas gets updated.\n",
       "    this.send_message(\"ack\", {});\n",
       "}\n",
       "\n",
       "// A function to construct a web socket function for onmessage handling.\n",
       "// Called in the figure constructor.\n",
       "mpl.figure.prototype._make_on_message_function = function(fig) {\n",
       "    return function socket_on_message(evt) {\n",
       "        if (evt.data instanceof Blob) {\n",
       "            /* FIXME: We get \"Resource interpreted as Image but\n",
       "             * transferred with MIME type text/plain:\" errors on\n",
       "             * Chrome.  But how to set the MIME type?  It doesn't seem\n",
       "             * to be part of the websocket stream */\n",
       "            evt.data.type = \"image/png\";\n",
       "\n",
       "            /* Free the memory for the previous frames */\n",
       "            if (fig.imageObj.src) {\n",
       "                (window.URL || window.webkitURL).revokeObjectURL(\n",
       "                    fig.imageObj.src);\n",
       "            }\n",
       "\n",
       "            fig.imageObj.src = (window.URL || window.webkitURL).createObjectURL(\n",
       "                evt.data);\n",
       "            fig.updated_canvas_event();\n",
       "            fig.waiting = false;\n",
       "            return;\n",
       "        }\n",
       "        else if (typeof evt.data === 'string' && evt.data.slice(0, 21) == \"data:image/png;base64\") {\n",
       "            fig.imageObj.src = evt.data;\n",
       "            fig.updated_canvas_event();\n",
       "            fig.waiting = false;\n",
       "            return;\n",
       "        }\n",
       "\n",
       "        var msg = JSON.parse(evt.data);\n",
       "        var msg_type = msg['type'];\n",
       "\n",
       "        // Call the  \"handle_{type}\" callback, which takes\n",
       "        // the figure and JSON message as its only arguments.\n",
       "        try {\n",
       "            var callback = fig[\"handle_\" + msg_type];\n",
       "        } catch (e) {\n",
       "            console.log(\"No handler for the '\" + msg_type + \"' message type: \", msg);\n",
       "            return;\n",
       "        }\n",
       "\n",
       "        if (callback) {\n",
       "            try {\n",
       "                // console.log(\"Handling '\" + msg_type + \"' message: \", msg);\n",
       "                callback(fig, msg);\n",
       "            } catch (e) {\n",
       "                console.log(\"Exception inside the 'handler_\" + msg_type + \"' callback:\", e, e.stack, msg);\n",
       "            }\n",
       "        }\n",
       "    };\n",
       "}\n",
       "\n",
       "// from http://stackoverflow.com/questions/1114465/getting-mouse-location-in-canvas\n",
       "mpl.findpos = function(e) {\n",
       "    //this section is from http://www.quirksmode.org/js/events_properties.html\n",
       "    var targ;\n",
       "    if (!e)\n",
       "        e = window.event;\n",
       "    if (e.target)\n",
       "        targ = e.target;\n",
       "    else if (e.srcElement)\n",
       "        targ = e.srcElement;\n",
       "    if (targ.nodeType == 3) // defeat Safari bug\n",
       "        targ = targ.parentNode;\n",
       "\n",
       "    // jQuery normalizes the pageX and pageY\n",
       "    // pageX,Y are the mouse positions relative to the document\n",
       "    // offset() returns the position of the element relative to the document\n",
       "    var x = e.pageX - $(targ).offset().left;\n",
       "    var y = e.pageY - $(targ).offset().top;\n",
       "\n",
       "    return {\"x\": x, \"y\": y};\n",
       "};\n",
       "\n",
       "/*\n",
       " * return a copy of an object with only non-object keys\n",
       " * we need this to avoid circular references\n",
       " * http://stackoverflow.com/a/24161582/3208463\n",
       " */\n",
       "function simpleKeys (original) {\n",
       "  return Object.keys(original).reduce(function (obj, key) {\n",
       "    if (typeof original[key] !== 'object')\n",
       "        obj[key] = original[key]\n",
       "    return obj;\n",
       "  }, {});\n",
       "}\n",
       "\n",
       "mpl.figure.prototype.mouse_event = function(event, name) {\n",
       "    var canvas_pos = mpl.findpos(event)\n",
       "\n",
       "    if (name === 'button_press')\n",
       "    {\n",
       "        this.canvas.focus();\n",
       "        this.canvas_div.focus();\n",
       "    }\n",
       "\n",
       "    var x = canvas_pos.x * mpl.ratio;\n",
       "    var y = canvas_pos.y * mpl.ratio;\n",
       "\n",
       "    this.send_message(name, {x: x, y: y, button: event.button,\n",
       "                             step: event.step,\n",
       "                             guiEvent: simpleKeys(event)});\n",
       "\n",
       "    /* This prevents the web browser from automatically changing to\n",
       "     * the text insertion cursor when the button is pressed.  We want\n",
       "     * to control all of the cursor setting manually through the\n",
       "     * 'cursor' event from matplotlib */\n",
       "    event.preventDefault();\n",
       "    return false;\n",
       "}\n",
       "\n",
       "mpl.figure.prototype._key_event_extra = function(event, name) {\n",
       "    // Handle any extra behaviour associated with a key event\n",
       "}\n",
       "\n",
       "mpl.figure.prototype.key_event = function(event, name) {\n",
       "\n",
       "    // Prevent repeat events\n",
       "    if (name == 'key_press')\n",
       "    {\n",
       "        if (event.which === this._key)\n",
       "            return;\n",
       "        else\n",
       "            this._key = event.which;\n",
       "    }\n",
       "    if (name == 'key_release')\n",
       "        this._key = null;\n",
       "\n",
       "    var value = '';\n",
       "    if (event.ctrlKey && event.which != 17)\n",
       "        value += \"ctrl+\";\n",
       "    if (event.altKey && event.which != 18)\n",
       "        value += \"alt+\";\n",
       "    if (event.shiftKey && event.which != 16)\n",
       "        value += \"shift+\";\n",
       "\n",
       "    value += 'k';\n",
       "    value += event.which.toString();\n",
       "\n",
       "    this._key_event_extra(event, name);\n",
       "\n",
       "    this.send_message(name, {key: value,\n",
       "                             guiEvent: simpleKeys(event)});\n",
       "    return false;\n",
       "}\n",
       "\n",
       "mpl.figure.prototype.toolbar_button_onclick = function(name) {\n",
       "    if (name == 'download') {\n",
       "        this.handle_save(this, null);\n",
       "    } else {\n",
       "        this.send_message(\"toolbar_button\", {name: name});\n",
       "    }\n",
       "};\n",
       "\n",
       "mpl.figure.prototype.toolbar_button_onmouseover = function(tooltip) {\n",
       "    this.message.textContent = tooltip;\n",
       "};\n",
       "mpl.toolbar_items = [[\"Home\", \"Reset original view\", \"fa fa-home icon-home\", \"home\"], [\"Back\", \"Back to  previous view\", \"fa fa-arrow-left icon-arrow-left\", \"back\"], [\"Forward\", \"Forward to next view\", \"fa fa-arrow-right icon-arrow-right\", \"forward\"], [\"\", \"\", \"\", \"\"], [\"Pan\", \"Pan axes with left mouse, zoom with right\", \"fa fa-arrows icon-move\", \"pan\"], [\"Zoom\", \"Zoom to rectangle\", \"fa fa-square-o icon-check-empty\", \"zoom\"], [\"\", \"\", \"\", \"\"], [\"Download\", \"Download plot\", \"fa fa-floppy-o icon-save\", \"download\"]];\n",
       "\n",
       "mpl.extensions = [\"eps\", \"jpeg\", \"pdf\", \"png\", \"ps\", \"raw\", \"svg\", \"tif\"];\n",
       "\n",
       "mpl.default_extension = \"png\";var comm_websocket_adapter = function(comm) {\n",
       "    // Create a \"websocket\"-like object which calls the given IPython comm\n",
       "    // object with the appropriate methods. Currently this is a non binary\n",
       "    // socket, so there is still some room for performance tuning.\n",
       "    var ws = {};\n",
       "\n",
       "    ws.close = function() {\n",
       "        comm.close()\n",
       "    };\n",
       "    ws.send = function(m) {\n",
       "        //console.log('sending', m);\n",
       "        comm.send(m);\n",
       "    };\n",
       "    // Register the callback with on_msg.\n",
       "    comm.on_msg(function(msg) {\n",
       "        //console.log('receiving', msg['content']['data'], msg);\n",
       "        // Pass the mpl event to the overriden (by mpl) onmessage function.\n",
       "        ws.onmessage(msg['content']['data'])\n",
       "    });\n",
       "    return ws;\n",
       "}\n",
       "\n",
       "mpl.mpl_figure_comm = function(comm, msg) {\n",
       "    // This is the function which gets called when the mpl process\n",
       "    // starts-up an IPython Comm through the \"matplotlib\" channel.\n",
       "\n",
       "    var id = msg.content.data.id;\n",
       "    // Get hold of the div created by the display call when the Comm\n",
       "    // socket was opened in Python.\n",
       "    var element = $(\"#\" + id);\n",
       "    var ws_proxy = comm_websocket_adapter(comm)\n",
       "\n",
       "    function ondownload(figure, format) {\n",
       "        window.open(figure.imageObj.src);\n",
       "    }\n",
       "\n",
       "    var fig = new mpl.figure(id, ws_proxy,\n",
       "                           ondownload,\n",
       "                           element.get(0));\n",
       "\n",
       "    // Call onopen now - mpl needs it, as it is assuming we've passed it a real\n",
       "    // web socket which is closed, not our websocket->open comm proxy.\n",
       "    ws_proxy.onopen();\n",
       "\n",
       "    fig.parent_element = element.get(0);\n",
       "    fig.cell_info = mpl.find_output_cell(\"<div id='\" + id + \"'></div>\");\n",
       "    if (!fig.cell_info) {\n",
       "        console.error(\"Failed to find cell for figure\", id, fig);\n",
       "        return;\n",
       "    }\n",
       "\n",
       "    var output_index = fig.cell_info[2]\n",
       "    var cell = fig.cell_info[0];\n",
       "\n",
       "};\n",
       "\n",
       "mpl.figure.prototype.handle_close = function(fig, msg) {\n",
       "    var width = fig.canvas.width/mpl.ratio\n",
       "    fig.root.unbind('remove')\n",
       "\n",
       "    // Update the output cell to use the data from the current canvas.\n",
       "    fig.push_to_output();\n",
       "    var dataURL = fig.canvas.toDataURL();\n",
       "    // Re-enable the keyboard manager in IPython - without this line, in FF,\n",
       "    // the notebook keyboard shortcuts fail.\n",
       "    IPython.keyboard_manager.enable()\n",
       "    $(fig.parent_element).html('<img src=\"' + dataURL + '\" width=\"' + width + '\">');\n",
       "    fig.close_ws(fig, msg);\n",
       "}\n",
       "\n",
       "mpl.figure.prototype.close_ws = function(fig, msg){\n",
       "    fig.send_message('closing', msg);\n",
       "    // fig.ws.close()\n",
       "}\n",
       "\n",
       "mpl.figure.prototype.push_to_output = function(remove_interactive) {\n",
       "    // Turn the data on the canvas into data in the output cell.\n",
       "    var width = this.canvas.width/mpl.ratio\n",
       "    var dataURL = this.canvas.toDataURL();\n",
       "    this.cell_info[1]['text/html'] = '<img src=\"' + dataURL + '\" width=\"' + width + '\">';\n",
       "}\n",
       "\n",
       "mpl.figure.prototype.updated_canvas_event = function() {\n",
       "    // Tell IPython that the notebook contents must change.\n",
       "    IPython.notebook.set_dirty(true);\n",
       "    this.send_message(\"ack\", {});\n",
       "    var fig = this;\n",
       "    // Wait a second, then push the new image to the DOM so\n",
       "    // that it is saved nicely (might be nice to debounce this).\n",
       "    setTimeout(function () { fig.push_to_output() }, 1000);\n",
       "}\n",
       "\n",
       "mpl.figure.prototype._init_toolbar = function() {\n",
       "    var fig = this;\n",
       "\n",
       "    var nav_element = $('<div/>')\n",
       "    nav_element.attr('style', 'width: 100%');\n",
       "    this.root.append(nav_element);\n",
       "\n",
       "    // Define a callback function for later on.\n",
       "    function toolbar_event(event) {\n",
       "        return fig.toolbar_button_onclick(event['data']);\n",
       "    }\n",
       "    function toolbar_mouse_event(event) {\n",
       "        return fig.toolbar_button_onmouseover(event['data']);\n",
       "    }\n",
       "\n",
       "    for(var toolbar_ind in mpl.toolbar_items){\n",
       "        var name = mpl.toolbar_items[toolbar_ind][0];\n",
       "        var tooltip = mpl.toolbar_items[toolbar_ind][1];\n",
       "        var image = mpl.toolbar_items[toolbar_ind][2];\n",
       "        var method_name = mpl.toolbar_items[toolbar_ind][3];\n",
       "\n",
       "        if (!name) { continue; };\n",
       "\n",
       "        var button = $('<button class=\"btn btn-default\" href=\"#\" title=\"' + name + '\"><i class=\"fa ' + image + ' fa-lg\"></i></button>');\n",
       "        button.click(method_name, toolbar_event);\n",
       "        button.mouseover(tooltip, toolbar_mouse_event);\n",
       "        nav_element.append(button);\n",
       "    }\n",
       "\n",
       "    // Add the status bar.\n",
       "    var status_bar = $('<span class=\"mpl-message\" style=\"text-align:right; float: right;\"/>');\n",
       "    nav_element.append(status_bar);\n",
       "    this.message = status_bar[0];\n",
       "\n",
       "    // Add the close button to the window.\n",
       "    var buttongrp = $('<div class=\"btn-group inline pull-right\"></div>');\n",
       "    var button = $('<button class=\"btn btn-mini btn-primary\" href=\"#\" title=\"Stop Interaction\"><i class=\"fa fa-power-off icon-remove icon-large\"></i></button>');\n",
       "    button.click(function (evt) { fig.handle_close(fig, {}); } );\n",
       "    button.mouseover('Stop Interaction', toolbar_mouse_event);\n",
       "    buttongrp.append(button);\n",
       "    var titlebar = this.root.find($('.ui-dialog-titlebar'));\n",
       "    titlebar.prepend(buttongrp);\n",
       "}\n",
       "\n",
       "mpl.figure.prototype._root_extra_style = function(el){\n",
       "    var fig = this\n",
       "    el.on(\"remove\", function(){\n",
       "\tfig.close_ws(fig, {});\n",
       "    });\n",
       "}\n",
       "\n",
       "mpl.figure.prototype._canvas_extra_style = function(el){\n",
       "    // this is important to make the div 'focusable\n",
       "    el.attr('tabindex', 0)\n",
       "    // reach out to IPython and tell the keyboard manager to turn it's self\n",
       "    // off when our div gets focus\n",
       "\n",
       "    // location in version 3\n",
       "    if (IPython.notebook.keyboard_manager) {\n",
       "        IPython.notebook.keyboard_manager.register_events(el);\n",
       "    }\n",
       "    else {\n",
       "        // location in version 2\n",
       "        IPython.keyboard_manager.register_events(el);\n",
       "    }\n",
       "\n",
       "}\n",
       "\n",
       "mpl.figure.prototype._key_event_extra = function(event, name) {\n",
       "    var manager = IPython.notebook.keyboard_manager;\n",
       "    if (!manager)\n",
       "        manager = IPython.keyboard_manager;\n",
       "\n",
       "    // Check for shift+enter\n",
       "    if (event.shiftKey && event.which == 13) {\n",
       "        this.canvas_div.blur();\n",
       "        // select the cell after this one\n",
       "        var index = IPython.notebook.find_cell_index(this.cell_info[0]);\n",
       "        IPython.notebook.select(index + 1);\n",
       "    }\n",
       "}\n",
       "\n",
       "mpl.figure.prototype.handle_save = function(fig, msg) {\n",
       "    fig.ondownload(fig, null);\n",
       "}\n",
       "\n",
       "\n",
       "mpl.find_output_cell = function(html_output) {\n",
       "    // Return the cell and output element which can be found *uniquely* in the notebook.\n",
       "    // Note - this is a bit hacky, but it is done because the \"notebook_saving.Notebook\"\n",
       "    // IPython event is triggered only after the cells have been serialised, which for\n",
       "    // our purposes (turning an active figure into a static one), is too late.\n",
       "    var cells = IPython.notebook.get_cells();\n",
       "    var ncells = cells.length;\n",
       "    for (var i=0; i<ncells; i++) {\n",
       "        var cell = cells[i];\n",
       "        if (cell.cell_type === 'code'){\n",
       "            for (var j=0; j<cell.output_area.outputs.length; j++) {\n",
       "                var data = cell.output_area.outputs[j];\n",
       "                if (data.data) {\n",
       "                    // IPython >= 3 moved mimebundle to data attribute of output\n",
       "                    data = data.data;\n",
       "                }\n",
       "                if (data['text/html'] == html_output) {\n",
       "                    return [cell, data, j];\n",
       "                }\n",
       "            }\n",
       "        }\n",
       "    }\n",
       "}\n",
       "\n",
       "// Register the function which deals with the matplotlib target/channel.\n",
       "// The kernel may be null if the page has been refreshed.\n",
       "if (IPython.notebook.kernel != null) {\n",
       "    IPython.notebook.kernel.comm_manager.register_target('matplotlib', mpl.mpl_figure_comm);\n",
       "}\n"
      ],
      "text/plain": [
       "<IPython.core.display.Javascript object>"
      ]
     },
     "metadata": {},
     "output_type": "display_data"
    },
    {
     "data": {
      "text/html": [
       "<img src=\"data:image/png;base64,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\" width=\"1000\">"
      ],
      "text/plain": [
       "<IPython.core.display.HTML object>"
      ]
     },
     "metadata": {},
     "output_type": "display_data"
    }
   ],
   "source": [
    "# para debuggear\n",
    "#\n",
    "import sys\n",
    "nb_stdout = sys.stdout\n",
    "sys.stdout = open('/dev/stdout', 'w')\n",
    "\n",
    "from scipy.spatial import distance as dist\n",
    "\n",
    "THRESHOLD = 0.942\n",
    "\n",
    "%matplotlib notebook\n",
    "\n",
    "#import sounddevice as sd\n",
    "#sd.default.samplerate = SAMPLE_RATE\n",
    "#sd.default.device = 18\n",
    "\n",
    "def pointClicked(event):\n",
    "    fileToPlay = None\n",
    "    \n",
    "    if ( event.xdata == None ):\n",
    "        return\n",
    "    \n",
    "    for i in range(0, positions.shape[0]):\n",
    "        if dist.euclidean( positions[i,:], np.array( (event.xdata,event.ydata) ) ) < 0.00001:\n",
    "            print(\"Hay punto\")\n",
    "            fileToPlay = audioFiles[i]\n",
    "            print(\"Playing:\",fileToPlay)\n",
    "            break\n",
    "            #fileToPlayData, fileToPlaySampleRate = librosa.core.load(fileToPlay, sr = None)\n",
    "            #sound = matrixAudioData[i]\n",
    "            #ound = matrixAudioDataNoFFT[i]\n",
    "            \n",
    "    if fileToPlay != None:\n",
    "        vlc.MediaPlayer(fileToPlay).play()\n",
    "        #sd.play(fileToPlayData, fileToPlaySampleRate, blocking = True)\n",
    "        \n",
    "\n",
    "fig = plt.figure(figsize=(10, 10))\n",
    "#plt.scatter(positions[:,0], positions[:,1], s=60, c=cutTree)\n",
    "plt.scatter(positions[:,0], positions[:,1], s=60)\n",
    "\n",
    "\n",
    "# for x, y, cluster, _ in output:\n",
    "#     plt.annotate(str(cluster), (x,y))\n",
    "\n",
    "\n",
    "fig.canvas.mpl_connect('button_press_event', pointClicked )\n",
    "\n",
    "\n",
    "\n",
    "plt.show()"
   ]
  },
  {
   "cell_type": "markdown",
   "metadata": {},
   "source": [
    "### Espectrogramas Promedio por cluster"
   ]
  },
  {
   "cell_type": "code",
   "execution_count": 157,
   "metadata": {
    "collapsed": true
   },
   "outputs": [],
   "source": [
    "import scipy.stats\n",
    "\n",
    "espectrogramasPromedio = []\n",
    "espectrogramasMediana = []\n",
    "\n",
    "for cluster in range(0, cantClusters):\n",
    "    npAudioFiles = np.array( audioFiles )[ output[:,2] == str(cluster) ]\n",
    "    espectrogramasPromedioPre = []\n",
    "    # espectrogramasPromedio[0] = np\n",
    "\n",
    "    for i in range(0, npAudioFiles.size ):\n",
    "    #     \n",
    "        y, sr = librosa.load(npAudioFiles[i], sr = SAMPLE_RATE)\n",
    "\n",
    "        y.resize(ceil(SAMPLE_RATE * SEGUNDOS_FILA))\n",
    "\n",
    "        D = librosa.stft(y)\n",
    "\n",
    "        spectrogramData = librosa.logamplitude(np.abs(D)**2, ref_power=np.max)\n",
    "\n",
    "        espectrogramasPromedioPre.append(spectrogramData)\n",
    "\n",
    "\n",
    "    #     plt.title('Power spectrogram')\n",
    "    #     plt.colorbar(format='%+2.0f dB')\n",
    "    #     matplotlib.pyplot.savefig(ESPECTROGRAMA_SAVE_TO + str(i) + \".png\", bbox_inches='tight')\n",
    "    #     plt.close(fig)\n",
    "    #     plt.show()\n",
    "    #     break\n",
    "\n",
    "    espectrogramasPromedio.append( np.average( espectrogramasPromedioPre, axis = 0 ) )\n",
    "    espectrogramasMediana.append( np.median( espectrogramasPromedioPre, axis = 0 ) )\n",
    "    "
   ]
  },
  {
   "cell_type": "code",
   "execution_count": 169,
   "metadata": {
    "collapsed": false
   },
   "outputs": [
    {
     "data": {
      "image/png": "[encoded data removed]",
      "text/plain": [
       "<matplotlib.figure.Figure at 0x7f4a857df9e8>"
      ]
     },
     "metadata": {},
     "output_type": "display_data"
    },
    {
     "data": {
      "image/png": "[encoded data removed]",
      "text/plain": [
       "<matplotlib.figure.Figure at 0x7f4a737e70f0>"
      ]
     },
     "metadata": {},
     "output_type": "display_data"
    },
    {
     "data": {
      "image/png": "[encoded data removed]",
      "text/plain": [
       "<matplotlib.figure.Figure at 0x7f4a737e0128>"
      ]
     },
     "metadata": {},
     "output_type": "display_data"
    },
    {
     "data": {
      "image/png": "[encoded data removed]",
      "text/plain": [
       "<matplotlib.figure.Figure at 0x7f4a85abf898>"
      ]
     },
     "metadata": {},
     "output_type": "display_data"
    },
    {
     "data": {
      "image/png": "[encoded data removed]",
      "text/plain": [
       "<matplotlib.figure.Figure at 0x7f4a85e96e10>"
      ]
     },
     "metadata": {},
     "output_type": "display_data"
    }
   ],
   "source": [
    "%matplotlib inline\n",
    "\n",
    "# subplt = plt.subplot(3, 3, 2)\n",
    "\n",
    "# row and column sharing\n",
    "# f, ((ax1, ax2), (ax3, ax4)) = plt.subplots(3, 3, sharex='col', sharey='row')\n",
    "# f, plotMatrix = plt.subplots(3, 3, sharex='col', sharey='row')\n",
    "# currentCluster = 0\n",
    "\n",
    "# for tresPlots in plotMatrix:\n",
    "#     for plot in tresPlots:\n",
    "#         if currentCluster < cantClusters:\n",
    "#             plot.plot( librosa.display.specshow(espectrogramasPromedio[currentCluster],y_axis='log', x_axis='time') )\n",
    "#             currentCluster+=1;\n",
    "\n",
    "# ax1.plot(x, y)\n",
    "# ax2.scatter(x, y)\n",
    "# ax3.scatter(x, 2 * y ** 2 - 1, color='r')\n",
    "# ax4.plot(x, 2 * y ** 2 - 1, color='r')\n",
    "\n",
    "for cluster in range(0, cantClusters):\n",
    "    fig = plt.figure(figsize=(6, 5))\n",
    "    librosa.display.specshow(espectrogramasPromedio[cluster],y_axis='log', x_axis='time')\n",
    "    plt.title('Cluster ' + str(cluster))\n",
    "\n",
    "plt.show()"
   ]
  },
  {
   "cell_type": "code",
   "execution_count": 119,
   "metadata": {
    "collapsed": false
   },
   "outputs": [
    {
     "data": {
      "text/plain": [
       "[array([ 5078.30224609,  3447.45825195,  5857.99023438, ...,  5861.7890625 ,\n",
       "         5505.09375   ,  4553.72509766], dtype=float32),\n",
       " array([ 5078.30224609,  3447.45825195,  5857.99023438, ...,  5861.7890625 ,\n",
       "         5505.09375   ,  4553.72509766], dtype=float32),\n",
       " array([ 5078.30224609,  3447.45825195,  5857.99023438, ...,  5861.7890625 ,\n",
       "         5505.09375   ,  4553.72509766], dtype=float32),\n",
       " array([ 5078.30224609,  3447.45825195,  5857.99023438, ...,  5861.7890625 ,\n",
       "         5505.09375   ,  4553.72509766], dtype=float32),\n",
       " array([ 5078.30224609,  3447.45825195,  5857.99023438, ...,  5861.7890625 ,\n",
       "         5505.09375   ,  4553.72509766], dtype=float32)]"
      ]
     },
     "execution_count": 119,
     "metadata": {},
     "output_type": "execute_result"
    }
   ],
   "source": [
    "espectrogramasPromedio = []\n",
    "\n",
    "for i in range(0,cantClusters) :\n",
    "    \n",
    "    average = np.average( librosa.logamplitude( matrixAudioData [ output[:,2] == \"0\", :], ref_power=np.max ), axis = 1 )\n",
    "    espectrogramasPromedio.append( average )\n",
    "\n",
    "espectrogramasPromedio"
   ]
  },
  {
   "cell_type": "code",
   "execution_count": 117,
   "metadata": {
    "collapsed": false
   },
   "outputs": [
    {
     "data": {
      "text/plain": [
       "45100"
      ]
     },
     "execution_count": 117,
     "metadata": {},
     "output_type": "execute_result"
    }
   ],
   "source": [
    "espectrogramasPromedio[0].size"
   ]
  },
  {
   "cell_type": "code",
   "execution_count": 118,
   "metadata": {
    "collapsed": false
   },
   "outputs": [
    {
     "ename": "IndexError",
     "evalue": "tuple index out of range",
     "output_type": "error",
     "traceback": [
      "\u001b[1;31m---------------------------------------------------------------------------\u001b[0m",
      "\u001b[1;31mIndexError\u001b[0m                                Traceback (most recent call last)",
      "\u001b[1;32m<ipython-input-118-2cb9266746d2>\u001b[0m in \u001b[0;36m<module>\u001b[1;34m()\u001b[0m\n\u001b[0;32m      6\u001b[0m \u001b[1;31m# for i in range(0, len(audioFiles)): #guarda el range\u001b[0m\u001b[1;33m\u001b[0m\u001b[1;33m\u001b[0m\u001b[0m\n\u001b[0;32m      7\u001b[0m \u001b[0mfig\u001b[0m \u001b[1;33m=\u001b[0m \u001b[0mplt\u001b[0m\u001b[1;33m.\u001b[0m\u001b[0mfigure\u001b[0m\u001b[1;33m(\u001b[0m\u001b[0mfigsize\u001b[0m\u001b[1;33m=\u001b[0m\u001b[1;33m(\u001b[0m\u001b[1;36m16\u001b[0m\u001b[1;33m,\u001b[0m \u001b[1;36m5\u001b[0m\u001b[1;33m)\u001b[0m\u001b[1;33m)\u001b[0m\u001b[1;33m\u001b[0m\u001b[0m\n\u001b[1;32m----> 8\u001b[1;33m \u001b[0mlibrosa\u001b[0m\u001b[1;33m.\u001b[0m\u001b[0mdisplay\u001b[0m\u001b[1;33m.\u001b[0m\u001b[0mspecshow\u001b[0m\u001b[1;33m(\u001b[0m \u001b[0mespectrogramasPromedio\u001b[0m\u001b[1;33m[\u001b[0m\u001b[1;36m0\u001b[0m\u001b[1;33m]\u001b[0m \u001b[1;33m,\u001b[0m\u001b[0my_axis\u001b[0m\u001b[1;33m=\u001b[0m\u001b[1;34m'log'\u001b[0m\u001b[1;33m,\u001b[0m \u001b[0mx_axis\u001b[0m\u001b[1;33m=\u001b[0m\u001b[1;34m'time'\u001b[0m\u001b[1;33m)\u001b[0m\u001b[1;33m\u001b[0m\u001b[0m\n\u001b[0m\u001b[0;32m      9\u001b[0m \u001b[0mplt\u001b[0m\u001b[1;33m.\u001b[0m\u001b[0mtitle\u001b[0m\u001b[1;33m(\u001b[0m\u001b[1;34m'Power spectrogram'\u001b[0m\u001b[1;33m)\u001b[0m\u001b[1;33m\u001b[0m\u001b[0m\n\u001b[0;32m     10\u001b[0m \u001b[0mplt\u001b[0m\u001b[1;33m.\u001b[0m\u001b[0mcolorbar\u001b[0m\u001b[1;33m(\u001b[0m\u001b[0mformat\u001b[0m\u001b[1;33m=\u001b[0m\u001b[1;34m'%+2.0f dB'\u001b[0m\u001b[1;33m)\u001b[0m\u001b[1;33m\u001b[0m\u001b[0m\n",
      "\u001b[1;32m/home/macramole/anaconda3/lib/python3.5/site-packages/librosa/display.py\u001b[0m in \u001b[0;36mspecshow\u001b[1;34m(data, x_coords, y_coords, x_axis, y_axis, sr, hop_length, fmin, fmax, bins_per_octave, **kwargs)\u001b[0m\n\u001b[0;32m    648\u001b[0m     \u001b[1;31m# Get the x and y coordinates\u001b[0m\u001b[1;33m\u001b[0m\u001b[1;33m\u001b[0m\u001b[0m\n\u001b[0;32m    649\u001b[0m     \u001b[0my_coords\u001b[0m \u001b[1;33m=\u001b[0m \u001b[0m__mesh_coords\u001b[0m\u001b[1;33m(\u001b[0m\u001b[0my_axis\u001b[0m\u001b[1;33m,\u001b[0m \u001b[0my_coords\u001b[0m\u001b[1;33m,\u001b[0m \u001b[0mdata\u001b[0m\u001b[1;33m.\u001b[0m\u001b[0mshape\u001b[0m\u001b[1;33m[\u001b[0m\u001b[1;36m0\u001b[0m\u001b[1;33m]\u001b[0m\u001b[1;33m,\u001b[0m \u001b[1;33m**\u001b[0m\u001b[0mall_params\u001b[0m\u001b[1;33m)\u001b[0m\u001b[1;33m\u001b[0m\u001b[0m\n\u001b[1;32m--> 650\u001b[1;33m     \u001b[0mx_coords\u001b[0m \u001b[1;33m=\u001b[0m \u001b[0m__mesh_coords\u001b[0m\u001b[1;33m(\u001b[0m\u001b[0mx_axis\u001b[0m\u001b[1;33m,\u001b[0m \u001b[0mx_coords\u001b[0m\u001b[1;33m,\u001b[0m \u001b[0mdata\u001b[0m\u001b[1;33m.\u001b[0m\u001b[0mshape\u001b[0m\u001b[1;33m[\u001b[0m\u001b[1;36m1\u001b[0m\u001b[1;33m]\u001b[0m\u001b[1;33m,\u001b[0m \u001b[1;33m**\u001b[0m\u001b[0mall_params\u001b[0m\u001b[1;33m)\u001b[0m\u001b[1;33m\u001b[0m\u001b[0m\n\u001b[0m\u001b[0;32m    651\u001b[0m \u001b[1;33m\u001b[0m\u001b[0m\n\u001b[0;32m    652\u001b[0m     \u001b[0maxes\u001b[0m \u001b[1;33m=\u001b[0m \u001b[0mplt\u001b[0m\u001b[1;33m.\u001b[0m\u001b[0mgca\u001b[0m\u001b[1;33m(\u001b[0m\u001b[1;33m)\u001b[0m\u001b[1;33m\u001b[0m\u001b[0m\n",
      "\u001b[1;31mIndexError\u001b[0m: tuple index out of range"
     ]
    },
    {
     "data": {
      "text/plain": [
       "<matplotlib.figure.Figure at 0x7f4a73f93cc0>"
      ]
     },
     "metadata": {},
     "output_type": "display_data"
    }
   ],
   "source": [
    "%matplotlib inline\n",
    "import librosa.display\n",
    "\n",
    "# ESPECTROGRAMA_SAVE_TO = \"results/espectrogramas/\"\n",
    "\n",
    "# for i in range(0, len(audioFiles)): #guarda el range\n",
    "fig = plt.figure(figsize=(16, 5))\n",
    "librosa.display.specshow( espectrogramasPromedio[0] ,y_axis='log', x_axis='time')\n",
    "plt.title('Power spectrogram')\n",
    "plt.colorbar(format='%+2.0f dB')\n",
    "plt.show()\n",
    "#matplotlib.pyplot.savefig(ESPECTROGRAMA_SAVE_TO + str(i) + \".png\", bbox_inches='tight')\n",
    "#plt.close(fig)"
   ]
  },
  {
   "cell_type": "markdown",
   "metadata": {},
   "source": [
    "## Test de independencia\n",
    "\n",
    "Hacer una matriz COUNT_TOP x cantClusters y llenarla con las contingencias. Depsués hacer chi cuadrado y esperamos rechazar que son independientes. \n",
    "\n",
    "Saco un cluster porque sino voy a tener muchos zeros"
   ]
  },
  {
   "cell_type": "code",
   "execution_count": 24,
   "metadata": {
    "collapsed": false
   },
   "outputs": [
    {
     "name": "stdout",
     "output_type": "stream",
     "text": [
      "1446\n",
      "0.6795112781954887\n"
     ]
    },
    {
     "data": {
      "text/plain": [
       "{'bassdrum': 358,\n",
       " 'clap': 35,\n",
       " 'conga': 39,\n",
       " 'cymbal': 271,\n",
       " 'fx': 103,\n",
       " 'rimshot': 36,\n",
       " 'snaredrum': 320,\n",
       " 'tom': 202,\n",
       " 'tom h': 43,\n",
       " 'tom l': 39}"
      ]
     },
     "execution_count": 24,
     "metadata": {},
     "output_type": "execute_result"
    }
   ],
   "source": [
    "COUNT_TOP = 10\n",
    "fileNameCount = {}\n",
    "fileNameEquivalentes = {\n",
    "    \"bd\" : \"bassdrum\",\n",
    "    \"toms\" : \"tom\",\n",
    "    #\"tom h\" : \"tom\",\n",
    "    #\"tom l\" : \"tom\",\n",
    "    #\"tom m\" : \"tom\",\n",
    "    \"crash\" : \"cymbal\",\n",
    "    \"rim shot\" : \"rimshot\",\n",
    "    \"ride\" : \"cymbal\",\n",
    "    \"hat closed\" : \"cymbal\",\n",
    "    \"hat open\" : \"cymbal\",\n",
    "    \"conga h\": \"conga\",\n",
    "    \"conga l\": \"conga\",\n",
    "}\n",
    "audioFilesClass = []\n",
    "\n",
    "for audioFile in audioFiles:\n",
    "    fileName = audioFile[ audioFile.rfind(\"/\") + 1 : audioFile.rfind(\".wav\") ]\n",
    "    fileName = fileName.replace(\".wav\", \"\")\n",
    "    \n",
    "    if ( fileName.find(\"-\") != -1 ):\n",
    "       fileName = fileName[0:fileName.rfind(\"-\")]\n",
    "    \n",
    "    if ( fileName.find(\"_\") != -1 ):\n",
    "       fileName = fileName[0:fileName.rfind(\"_\")]\n",
    "    \n",
    "    fileName = fileName.lower()\n",
    "    \n",
    "    if ( fileName in fileNameEquivalentes ):\n",
    "        fileName = fileNameEquivalentes[fileName]\n",
    "    \n",
    "    if ( not fileName in fileNameCount ):\n",
    "        fileNameCount[fileName] = 0\n",
    "    \n",
    "    audioFilesClass.append(fileName)\n",
    "    fileNameCount[fileName] = fileNameCount[fileName] + 1\n",
    "\n",
    "fileNameCountTop = {}\n",
    "    \n",
    "sumCount = 0\n",
    "    \n",
    "for i in range(0,COUNT_TOP):\n",
    "    maxCount = -1\n",
    "    maxIndex = None\n",
    "    \n",
    "    for fileName in fileNameCount:\n",
    "        if ( fileNameCount[fileName] > maxCount ):\n",
    "            maxCount = fileNameCount[fileName]\n",
    "            maxIndex = fileName\n",
    "    \n",
    "    fileNameCountTop[maxIndex] = maxCount\n",
    "    fileNameCount[maxIndex] = -1\n",
    "    sumCount = sumCount + maxCount\n",
    "    \n",
    "print(sumCount)\n",
    "print(sumCount / len(audioFiles))\n",
    "fileNameCountTop"
   ]
  },
  {
   "cell_type": "code",
   "execution_count": 32,
   "metadata": {
    "collapsed": false
   },
   "outputs": [
    {
     "name": "stdout",
     "output_type": "stream",
     "text": [
      "{'rimshot': 36, 'snaredrum': 320, 'bassdrum': 358, 'tom h': 43, 'tom l': 39, 'tom': 202, 'cymbal': 271, 'clap': 35, 'conga': 39, 'fx': 103}\n"
     ]
    },
    {
     "data": {
      "text/plain": [
       "array([[  33.,    0.,    3.,    0.],\n",
       "       [ 120.,    0.,  143.,   57.],\n",
       "       [   9.,  290.,    2.,   57.],\n",
       "       [   5.,    1.,   29.,    8.],\n",
       "       [   2.,    5.,    2.,   30.],\n",
       "       [  23.,   28.,   61.,   90.],\n",
       "       [ 268.,    0.,    2.,    1.],\n",
       "       [  35.,    0.,    0.,    0.],\n",
       "       [  12.,    1.,   23.,    3.],\n",
       "       [  70.,    7.,    8.,   18.]])"
      ]
     },
     "execution_count": 32,
     "metadata": {},
     "output_type": "execute_result"
    }
   ],
   "source": [
    "matrizContingencia = np.zeros(shape=( COUNT_TOP, cantClusters - 1 ))\n",
    "#matrizContingencia = np.zeros(shape=( COUNT_TOP, 2 ))\n",
    "\n",
    "for i in range(0, len(audioFilesClass)):\n",
    "    if ( cutTree[i] == cantClusters - 1 ):\n",
    "        continue\n",
    "    clase = audioFilesClass[i]\n",
    "    if ( clase in fileNameCountTop ):\n",
    "        cluster = cutTree[i]\n",
    "        #cluster = 0\n",
    "        #if ( cutTree[i] != 1 ):\n",
    "        #    cluster = 1\n",
    "        indexClase = list(fileNameCountTop).index(clase)\n",
    "        matrizContingencia[ indexClase, cluster ] = matrizContingencia[ indexClase, cluster ] + 1\n",
    "\n",
    "print(fileNameCountTop)\n",
    "matrizContingencia"
   ]
  },
  {
   "cell_type": "code",
   "execution_count": 36,
   "metadata": {
    "collapsed": false
   },
   "outputs": [
    {
     "name": "stdout",
     "output_type": "stream",
     "text": [
      "rimshot\n",
      "snaredrum\n",
      "bassdrum\n",
      "tom h\n",
      "tom l\n",
      "tom\n",
      "cymbal\n",
      "clap\n",
      "conga\n",
      "fx\n"
     ]
    }
   ],
   "source": [
    "for a in list(fileNameCountTop):\n",
    "    print(a)"
   ]
  },
  {
   "cell_type": "code",
   "execution_count": 33,
   "metadata": {
    "collapsed": false
   },
   "outputs": [
    {
     "data": {
      "text/plain": [
       "array([[  14.36514523,    8.26556017,    6.7966805 ,    6.57261411],\n",
       "       [ 127.69017981,   73.47164592,   60.41493776,   58.42323651],\n",
       "       [ 142.85338866,   82.19640387,   67.58921162,   65.36099585],\n",
       "       [  17.15836791,    9.87275242,    8.11825726,    7.85062241],\n",
       "       [  15.56224066,    8.95435685,    7.36307054,    7.12033195],\n",
       "       [  80.604426  ,   46.37897649,   38.13692946,   36.87966805],\n",
       "       [ 108.13762102,   62.22130014,   51.16390041,   49.47717842],\n",
       "       [  13.96611342,    8.03596127,    6.60788382,    6.39004149],\n",
       "       [  15.56224066,    8.95435685,    7.36307054,    7.12033195],\n",
       "       [  41.10027663,   23.64868603,   19.44605809,   18.80497925]])"
      ]
     },
     "execution_count": 33,
     "metadata": {},
     "output_type": "execute_result"
    }
   ],
   "source": [
    "from scipy.stats import chi2_contingency\n",
    "\n",
    "chi2, p, dof, expected = chi2_contingency(matrizContingencia)\n"
   ]
  },
  {
   "cell_type": "code",
   "execution_count": 39,
   "metadata": {
    "collapsed": false
   },
   "outputs": [
    {
     "data": {
      "text/plain": [
       "0.0"
      ]
     },
     "execution_count": 39,
     "metadata": {},
     "output_type": "execute_result"
    }
   ],
   "source": [
    "p\n"
   ]
  },
  {
   "cell_type": "markdown",
   "metadata": {},
   "source": [
    "## Export"
   ]
  },
  {
   "cell_type": "code",
   "execution_count": 84,
   "metadata": {
    "collapsed": true
   },
   "outputs": [],
   "source": [
    "np.savetxt(\"audioClusteringResult.tsv\", \n",
    "           output, \n",
    "           fmt = \"%s\", \n",
    "           header = \"x\\ty\\tcluster\\tfile\",\n",
    "           delimiter = \"\\t\") \n"
   ]
  },
  {
   "cell_type": "markdown",
   "metadata": {},
   "source": [
    "### Matriz de contingencia"
   ]
  },
  {
   "cell_type": "code",
   "execution_count": 34,
   "metadata": {
    "collapsed": true
   },
   "outputs": [],
   "source": [
    "np.savetxt(\"matrizContingencia-observado.tsv\", \n",
    "           matrizContingencia, \n",
    "           fmt = \"%s\", \n",
    "           delimiter = \"\\t\") \n",
    "np.savetxt(\"matrizContingencia-esperado.tsv\", \n",
    "           expected, \n",
    "           fmt = \"%s\", \n",
    "           delimiter = \"\\t\") \n"
   ]
  },
  {
   "cell_type": "markdown",
   "metadata": {},
   "source": [
    "### Espectrogramas"
   ]
  },
  {
   "cell_type": "code",
   "execution_count": 8,
   "metadata": {
    "collapsed": true
   },
   "outputs": [],
   "source": [
    "%matplotlib inline\n",
    "import librosa.display\n",
    "\n",
    "ESPECTROGRAMA_SAVE_TO = \"results/espectrogramas/\"\n",
    "\n",
    "for i in range(0, len(audioFiles)): #guarda el range\n",
    "    fig = plt.figure(figsize=(6, 5))\n",
    "    y, sr = librosa.load(audioFiles[i], sr = SAMPLE_RATE)\n",
    "    \n",
    "    y.resize(ceil(SAMPLE_RATE * SEGUNDOS_FILA))\n",
    "    \n",
    "    D = librosa.stft(y)\n",
    "    librosa.display.specshow(librosa.logamplitude(np.abs(D)**2,\n",
    "                                               ref_power=np.max),\n",
    "                          y_axis='log', x_axis='time')\n",
    "    plt.title('Power spectrogram')\n",
    "    plt.colorbar(format='%+2.0f dB')\n",
    "    matplotlib.pyplot.savefig(ESPECTROGRAMA_SAVE_TO + str(i) + \".png\", bbox_inches='tight')\n",
    "    plt.close(fig)"
   ]
  }
 ],
 "metadata": {
  "anaconda-cloud": {},
  "kernelspec": {
   "display_name": "Python [Root]",
   "language": "python",
   "name": "Python [Root]"
  },
  "language_info": {
   "codemirror_mode": {
    "name": "ipython",
    "version": 3
   },
   "file_extension": ".py",
   "mimetype": "text/x-python",
   "name": "python",
   "nbconvert_exporter": "python",
   "pygments_lexer": "ipython3",
   "version": "3.5.2"
  },
  "nbpresent": {
   "slides": {
    "0e0cffeb-c555-408c-b599-a0aeed9b23cc": {
     "id": "0e0cffeb-c555-408c-b599-a0aeed9b23cc",
     "prev": "e214b5f9-6a19-4bf4-87e6-dca2afca9c54",
     "regions": {
      "09bb9187-1df9-4208-834b-2fec789a5d9a": {
       "attrs": {
        "height": 0.8,
        "width": 0.8,
        "x": 0.1,
        "y": 0.1
       },
       "content": {
        "cell": "0aa6309e-ba46-4b94-8e2a-146677abb110",
        "part": "whole"
       },
       "id": "09bb9187-1df9-4208-834b-2fec789a5d9a"
      }
     }
    },
    "38fc8b95-2a6e-41e8-8c0a-ae8d2a31030d": {
     "id": "38fc8b95-2a6e-41e8-8c0a-ae8d2a31030d",
     "prev": "47b59237-e692-4aac-8940-23a8140fec40",
     "regions": {
      "99e3e9ba-4110-4249-b8bb-ebee2b317898": {
       "attrs": {
        "height": 0.8,
        "width": 0.8,
        "x": 0.1,
        "y": 0.1
       },
       "content": {
        "cell": "f909e476-5a60-4359-9562-7d1340410380",
        "part": "whole"
       },
       "id": "99e3e9ba-4110-4249-b8bb-ebee2b317898"
      }
     }
    },
    "47b59237-e692-4aac-8940-23a8140fec40": {
     "id": "47b59237-e692-4aac-8940-23a8140fec40",
     "prev": "0e0cffeb-c555-408c-b599-a0aeed9b23cc",
     "regions": {
      "f738a0c1-fe67-4357-87d5-877c963efc20": {
       "attrs": {
        "height": 0.8,
        "width": 0.8,
        "x": 0.1,
        "y": 0.1
       },
       "content": {
        "cell": "889fa504-816e-45ed-bebf-09ce2a2cd8e2",
        "part": "whole"
       },
       "id": "f738a0c1-fe67-4357-87d5-877c963efc20"
      }
     }
    },
    "9b6009ba-5292-4554-9520-0fab8a1d7b3d": {
     "id": "9b6009ba-5292-4554-9520-0fab8a1d7b3d",
     "prev": null,
     "regions": {
      "2f1eadb0-49c4-43b5-9232-0ec510e1e7aa": {
       "attrs": {
        "height": 0.8,
        "width": 0.8,
        "x": 0.1,
        "y": 0.1
       },
       "content": {
        "cell": "e8153357-a5af-4f2b-9cae-2c3f2625177a",
        "part": "whole"
       },
       "id": "2f1eadb0-49c4-43b5-9232-0ec510e1e7aa"
      }
     }
    },
    "e214b5f9-6a19-4bf4-87e6-dca2afca9c54": {
     "id": "e214b5f9-6a19-4bf4-87e6-dca2afca9c54",
     "prev": "9b6009ba-5292-4554-9520-0fab8a1d7b3d",
     "regions": {
      "caa76436-a5bf-4cfa-a32d-993bf300dfe0": {
       "attrs": {
        "height": 0.8,
        "width": 0.8,
        "x": 0.1,
        "y": 0.1
       },
       "content": {
        "cell": "31f6d938-4207-423d-8d02-b8d71d853af8",
        "part": "whole"
       },
       "id": "caa76436-a5bf-4cfa-a32d-993bf300dfe0"
      }
     }
    }
   },
   "themes": {}
  }
 },
 "nbformat": 4,
 "nbformat_minor": 1
}
